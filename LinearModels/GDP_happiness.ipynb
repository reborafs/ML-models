{
 "cells": [
  {
   "cell_type": "markdown",
   "id": "fbe31008",
   "metadata": {},
   "source": [
    "# <center> Can Money Buy Happiness?</center>\n",
    "### <center> Linear Model Using Scikit-learn\n",
    "   \n",
    "The model predicts the Life satisfaction parameter for a country based on its GDP per capita.\n",
    "It was trained using the datasets provided by OECD's website, using Pandas and Scikit-learn.\n",
    "    "
   ]
  },
  {
   "cell_type": "code",
   "execution_count": 1,
   "id": "270e9528",
   "metadata": {},
   "outputs": [],
   "source": [
    "import numpy as np\n",
    "import matplotlib.pyplot as plt\n",
    "import pandas as pd\n",
    "import sklearn.linear_model"
   ]
  },
  {
   "cell_type": "markdown",
   "id": "f6eb8c75",
   "metadata": {},
   "source": [
    "Importing the data:"
   ]
  },
  {
   "cell_type": "code",
   "execution_count": null,
   "id": "9cdc2c63",
   "metadata": {},
   "outputs": [],
   "source": []
  },
  {
   "cell_type": "code",
   "execution_count": null,
   "id": "59cd5b10",
   "metadata": {},
   "outputs": [],
   "source": []
  },
  {
   "cell_type": "code",
   "execution_count": null,
   "id": "2cc90826",
   "metadata": {},
   "outputs": [],
   "source": []
  }
 ],
 "metadata": {
  "kernelspec": {
   "display_name": "Python 3",
   "language": "python",
   "name": "python3"
  },
  "language_info": {
   "codemirror_mode": {
    "name": "ipython",
    "version": 3
   },
   "file_extension": ".py",
   "mimetype": "text/x-python",
   "name": "python",
   "nbconvert_exporter": "python",
   "pygments_lexer": "ipython3",
   "version": "3.9.5"
  }
 },
 "nbformat": 4,
 "nbformat_minor": 5
}
